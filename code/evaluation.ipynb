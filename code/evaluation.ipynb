{
 "cells": [
  {
   "attachments": {},
   "cell_type": "markdown",
   "metadata": {},
   "source": [
    "## Model Evaluation"
   ]
  },
  {
   "cell_type": "code",
   "execution_count": 1,
   "metadata": {},
   "outputs": [],
   "source": [
    "import json\n",
    "import pandas as pd\n",
    "import numpy as np\n",
    "import copy\n",
    "\n",
    "import plotly.express as px\n",
    "import plotly.graph_objects as go\n",
    "import plotly.io as pio\n",
    "\n",
    "from IPython.display import Image\n",
    "\n",
    "from dataclasses import dataclass"
   ]
  },
  {
   "cell_type": "code",
   "execution_count": 2,
   "metadata": {},
   "outputs": [],
   "source": [
    "# to open json after training\n",
    "json_file = open('../results/epoch_results.json')\n",
    "epoch_results = json.load(json_file)"
   ]
  },
  {
   "cell_type": "code",
   "execution_count": 3,
   "metadata": {},
   "outputs": [],
   "source": [
    "# convert json to a dataframe ready to use by plotly\n",
    "epoch_results_df = []\n",
    "\n",
    "for model, metrics in epoch_results.items():\n",
    "    for metric, values in metrics.items():\n",
    "        for index, value in enumerate(values):\n",
    "            item = [model, metric, index + 1, value]\n",
    "            epoch_results_df.append(item)\n",
    "\n",
    "# put it as a dataframe\n",
    "epoch_results_df = pd.DataFrame(data = epoch_results_df, columns = ['model', 'metric', 'epoch', 'value'])"
   ]
  },
  {
   "cell_type": "code",
   "execution_count": 4,
   "metadata": {},
   "outputs": [
    {
     "data": {
      "text/html": [
       "<div>\n",
       "<style scoped>\n",
       "    .dataframe tbody tr th:only-of-type {\n",
       "        vertical-align: middle;\n",
       "    }\n",
       "\n",
       "    .dataframe tbody tr th {\n",
       "        vertical-align: top;\n",
       "    }\n",
       "\n",
       "    .dataframe thead th {\n",
       "        text-align: right;\n",
       "    }\n",
       "</style>\n",
       "<table border=\"1\" class=\"dataframe\">\n",
       "  <thead>\n",
       "    <tr style=\"text-align: right;\">\n",
       "      <th></th>\n",
       "      <th>model</th>\n",
       "      <th>metric</th>\n",
       "      <th>epoch</th>\n",
       "      <th>value</th>\n",
       "    </tr>\n",
       "  </thead>\n",
       "  <tbody>\n",
       "    <tr>\n",
       "      <th>0</th>\n",
       "      <td>sequential</td>\n",
       "      <td>loss</td>\n",
       "      <td>1</td>\n",
       "      <td>2.219139</td>\n",
       "    </tr>\n",
       "    <tr>\n",
       "      <th>1</th>\n",
       "      <td>sequential</td>\n",
       "      <td>loss</td>\n",
       "      <td>2</td>\n",
       "      <td>1.049326</td>\n",
       "    </tr>\n",
       "    <tr>\n",
       "      <th>2</th>\n",
       "      <td>sequential</td>\n",
       "      <td>loss</td>\n",
       "      <td>3</td>\n",
       "      <td>1.005399</td>\n",
       "    </tr>\n",
       "    <tr>\n",
       "      <th>3</th>\n",
       "      <td>sequential</td>\n",
       "      <td>loss</td>\n",
       "      <td>4</td>\n",
       "      <td>0.934799</td>\n",
       "    </tr>\n",
       "    <tr>\n",
       "      <th>4</th>\n",
       "      <td>sequential</td>\n",
       "      <td>loss</td>\n",
       "      <td>5</td>\n",
       "      <td>0.923624</td>\n",
       "    </tr>\n",
       "  </tbody>\n",
       "</table>\n",
       "</div>"
      ],
      "text/plain": [
       "        model metric  epoch     value\n",
       "0  sequential   loss      1  2.219139\n",
       "1  sequential   loss      2  1.049326\n",
       "2  sequential   loss      3  1.005399\n",
       "3  sequential   loss      4  0.934799\n",
       "4  sequential   loss      5  0.923624"
      ]
     },
     "execution_count": 4,
     "metadata": {},
     "output_type": "execute_result"
    }
   ],
   "source": [
    "epoch_results_df.head()"
   ]
  },
  {
   "cell_type": "code",
   "execution_count": 5,
   "metadata": {},
   "outputs": [],
   "source": [
    "@dataclass\n",
    "class LineChart():\n",
    "\n",
    "    epoch_results: pd.DataFrame\n",
    "\n",
    "    def create_line_chart(self, metrics: list, button=True):\n",
    "        '''Method to visualize some metrics with plotly'''\n",
    "\n",
    "        # df for chart\n",
    "        df_for_chart = self.epoch_results[self.epoch_results['metric'].isin(metrics)]\n",
    "        df_for_chart['model_metric'] = df_for_chart.apply(lambda row: f\"{row['model']}_{row['metric']}\", axis=1)\n",
    "\n",
    "        df_for_chart = df_for_chart.sort_values(by=['epoch', 'model'], ascending=[True, True])\n",
    "        buttons=df_for_chart['model'].unique()\n",
    "\n",
    "        # create chart\n",
    "        fig = px.line(df_for_chart, x='epoch', y='value', color='model_metric')\n",
    "        self.button_layout(fig, buttons=buttons)\n",
    "\n",
    "        return fig\n",
    "\n",
    "\n",
    "    def button_layout(self, fig, buttons:list):\n",
    "\n",
    "        def button_organizer(buttons:list=buttons):\n",
    "            \n",
    "            buttons_output=[]\n",
    "            buttons_length=len(buttons)\n",
    "\n",
    "            none_button=dict(label=\"None\", method=\"update\", args=[{\"visible\":[True]}, {\"title\":\"ALL\"}])\n",
    "            buttons_output.append(none_button)\n",
    "\n",
    "            base_array=[False]*buttons_length*2\n",
    "\n",
    "            for key, button in enumerate(buttons):\n",
    "\n",
    "                button_array = copy.deepcopy(base_array)\n",
    "                button_array[key*2:(key*2)+2] = [True]*2\n",
    "                button_model=dict(label=f\"{button}\", method=\"update\", args=[{\"visible\":button_array}, {\"title\":f\"{button}\"}])\n",
    "                buttons_output.append(button_model)\n",
    "\n",
    "            return buttons_output\n",
    "\n",
    "        fig.update_layout(updatemenus=[dict(active=0,buttons=list(button_organizer(buttons)))])"
   ]
  },
  {
   "cell_type": "code",
   "execution_count": 6,
   "metadata": {},
   "outputs": [
    {
     "name": "stderr",
     "output_type": "stream",
     "text": [
      "c:\\Users\\SILVAFRA\\Anaconda3\\envs\\python-cvcourse\\lib\\site-packages\\ipykernel_launcher.py:11: SettingWithCopyWarning:\n",
      "\n",
      "\n",
      "A value is trying to be set on a copy of a slice from a DataFrame.\n",
      "Try using .loc[row_indexer,col_indexer] = value instead\n",
      "\n",
      "See the caveats in the documentation: https://pandas.pydata.org/pandas-docs/stable/user_guide/indexing.html#returning-a-view-versus-a-copy\n",
      "\n"
     ]
    },
    {
     "data": {
      "application/vnd.plotly.v1+json": {
       "config": {
        "plotlyServerURL": "https://plot.ly"
       },
       "data": [
        {
         "hovertemplate": "model_metric=inception_model_accuracy<br>epoch=%{x}<br>value=%{y}<extra></extra>",
         "legendgroup": "inception_model_accuracy",
         "line": {
          "color": "#636efa",
          "dash": "solid"
         },
         "marker": {
          "symbol": "circle"
         },
         "mode": "lines",
         "name": "inception_model_accuracy",
         "orientation": "v",
         "showlegend": true,
         "type": "scatter",
         "x": [
          1,
          2,
          3,
          4,
          5,
          6,
          7,
          8,
          9,
          10,
          11,
          12,
          13,
          14,
          15,
          16,
          17,
          18,
          19,
          20,
          21,
          22,
          23,
          24,
          25,
          26,
          27,
          28,
          29,
          30,
          31,
          32,
          33,
          34,
          35,
          36,
          37,
          38,
          39,
          40,
          41,
          42,
          43,
          44,
          45,
          46,
          47,
          48,
          49,
          50
         ],
         "xaxis": "x",
         "y": [
          0.7325910329818726,
          0.8882808089256287,
          0.9009246826171875,
          0.9288545250892639,
          0.9305529594421387,
          0.9258350729942322,
          0.9362143874168396,
          0.9439516663551331,
          0.9373466968536377,
          0.9550858736038208,
          0.9484808444976807,
          0.9560294151306152,
          0.9550858736038208,
          0.9501792788505554,
          0.9594262838363647,
          0.9543309807777405,
          0.952255129814148,
          0.9679184556007385,
          0.967163622379303,
          0.9654651880264282,
          0.9609360098838806,
          0.9696168899536133,
          0.9667862057685852,
          0.9694281816482544,
          0.9669749140739441,
          0.9735799431800842,
          0.9733912348747253,
          0.9732024669647217,
          0.9681071639060974,
          0.9637667536735535,
          0.9724476337432861,
          0.9733912348747253,
          0.9711266160011292,
          0.9741460680961609,
          0.9733912348747253,
          0.9754670858383179,
          0.9775429368019104,
          0.9673523306846619,
          0.9771655201911926,
          0.9756557941436768,
          0.9730137586593628,
          0.9730137586593628,
          0.9771655201911926,
          0.9839592576026917,
          0.9798074960708618,
          0.9769768118858337,
          0.9737686514854431,
          0.9835817813873291,
          0.9779203534126282,
          0.9756557941436768
         ],
         "yaxis": "y"
        },
        {
         "hovertemplate": "model_metric=inception_model_val_accuracy<br>epoch=%{x}<br>value=%{y}<extra></extra>",
         "legendgroup": "inception_model_val_accuracy",
         "line": {
          "color": "#EF553B",
          "dash": "solid"
         },
         "marker": {
          "symbol": "circle"
         },
         "mode": "lines",
         "name": "inception_model_val_accuracy",
         "orientation": "v",
         "showlegend": true,
         "type": "scatter",
         "x": [
          1,
          2,
          3,
          4,
          5,
          6,
          7,
          8,
          9,
          10,
          11,
          12,
          13,
          14,
          15,
          16,
          17,
          18,
          19,
          20,
          21,
          22,
          23,
          24,
          25,
          26,
          27,
          28,
          29,
          30,
          31,
          32,
          33,
          34,
          35,
          36,
          37,
          38,
          39,
          40,
          41,
          42,
          43,
          44,
          45,
          46,
          47,
          48,
          49,
          50
         ],
         "xaxis": "x",
         "y": [
          0.8456883430480957,
          0.8562783598899841,
          0.9341906309127808,
          0.9243570566177368,
          0.9334341883659363,
          0.935703456401825,
          0.9288955926895142,
          0.9130105972290039,
          0.9470499157905579,
          0.9432677626609802,
          0.9167927503585815,
          0.9576399326324463,
          0.950075626373291,
          0.9099848866462708,
          0.9561271071434021,
          0.9561271071434021,
          0.9266263246536255,
          0.95158851146698,
          0.9576399326324463,
          0.95158851146698,
          0.9485628008842468,
          0.9531013369560242,
          0.9561271071434021,
          0.950075626373291,
          0.9561271071434021,
          0.95158851146698,
          0.9531013369560242,
          0.9591528177261353,
          0.9531013369560242,
          0.95158851146698,
          0.950075626373291,
          0.9311649203300476,
          0.9614220857620239,
          0.9523449540138245,
          0.9644477963447571,
          0.9493191838264465,
          0.9606656432151794,
          0.9546142220497131,
          0.965960681438446,
          0.9553706645965576,
          0.9538577795028687,
          0.9561271071434021,
          0.95158851146698,
          0.9629349708557129,
          0.9553706645965576,
          0.9591528177261353,
          0.9591528177261353,
          0.9689863920211792,
          0.959909200668335,
          0.9561271071434021
         ],
         "yaxis": "y"
        },
        {
         "hovertemplate": "model_metric=sequential_accuracy<br>epoch=%{x}<br>value=%{y}<extra></extra>",
         "legendgroup": "sequential_accuracy",
         "line": {
          "color": "#00cc96",
          "dash": "solid"
         },
         "marker": {
          "symbol": "circle"
         },
         "mode": "lines",
         "name": "sequential_accuracy",
         "orientation": "v",
         "showlegend": true,
         "type": "scatter",
         "x": [
          1,
          2,
          3,
          4,
          5,
          6,
          7,
          8,
          9,
          10,
          11,
          12,
          13,
          14,
          15,
          16,
          17,
          18,
          19,
          20,
          21,
          22,
          23,
          24,
          25,
          26,
          27,
          28,
          29,
          30,
          31,
          32,
          33,
          34,
          35,
          36,
          37,
          38,
          39,
          40,
          41,
          42,
          43,
          44,
          45,
          46,
          47,
          48,
          49,
          50
         ],
         "xaxis": "x",
         "y": [
          0.504623532295227,
          0.5927533507347107,
          0.5984147787094116,
          0.6027552485466003,
          0.615776538848877,
          0.6406869292259216,
          0.6657859683036804,
          0.6531420946121216,
          0.7001320719718933,
          0.7110775709152222,
          0.73051518201828,
          0.751085102558136,
          0.7516512274742126,
          0.7652387022972107,
          0.7675033211708069,
          0.7782600522041321,
          0.7759954929351807,
          0.7812795042991638,
          0.7827892303466797,
          0.7948669791221619,
          0.7805246114730835,
          0.7967541217803955,
          0.7899603843688965,
          0.8141158819198608,
          0.8118512630462646,
          0.8220418691635132,
          0.8277033567428589,
          0.8290243148803711,
          0.8297792077064514,
          0.8382713794708252,
          0.8497830033302307,
          0.8563879728317261,
          0.8482732772827148,
          0.8533685803413391,
          0.8526136875152588,
          0.8580864071846008,
          0.8539347052574158,
          0.8543121218681335,
          0.8663898706436157,
          0.8786563277244568,
          0.8735610246658325,
          0.8839403390884399,
          0.8760143518447876,
          0.8695980310440063,
          0.8818644881248474,
          0.8899792432785034,
          0.8790338039398193,
          0.8709190487861633,
          0.8846952319145203,
          0.890734076499939
         ],
         "yaxis": "y"
        },
        {
         "hovertemplate": "model_metric=sequential_val_accuracy<br>epoch=%{x}<br>value=%{y}<extra></extra>",
         "legendgroup": "sequential_val_accuracy",
         "line": {
          "color": "#ab63fa",
          "dash": "solid"
         },
         "marker": {
          "symbol": "circle"
         },
         "mode": "lines",
         "name": "sequential_val_accuracy",
         "orientation": "v",
         "showlegend": true,
         "type": "scatter",
         "x": [
          1,
          2,
          3,
          4,
          5,
          6,
          7,
          8,
          9,
          10,
          11,
          12,
          13,
          14,
          15,
          16,
          17,
          18,
          19,
          20,
          21,
          22,
          23,
          24,
          25,
          26,
          27,
          28,
          29,
          30,
          31,
          32,
          33,
          34,
          35,
          36,
          37,
          38,
          39,
          40,
          41,
          42,
          43,
          44,
          45,
          46,
          47,
          48,
          49,
          50
         ],
         "xaxis": "x",
         "y": [
          0.5665658116340637,
          0.5869894027709961,
          0.6217851638793945,
          0.6006051301956177,
          0.6505295038223267,
          0.6384266018867493,
          0.670953094959259,
          0.7178517580032349,
          0.7133131623268127,
          0.7564296722412109,
          0.7322239279747009,
          0.7269288897514343,
          0.770801842212677,
          0.7700453996658325,
          0.8335855007171631,
          0.7163388729095459,
          0.7995461225509644,
          0.7980332970619202,
          0.8305597305297852,
          0.8570348024368286,
          0.8645991086959839,
          0.7435703277587891,
          0.8282904624938965,
          0.8199697136878967,
          0.8252647519111633,
          0.8683812618255615,
          0.8638426661491394,
          0.8547655344009399,
          0.8547655344009399,
          0.8940998315811157,
          0.8797276616096497,
          0.8888048529624939,
          0.891830563545227,
          0.8842662572860718,
          0.8903176784515381,
          0.891830563545227,
          0.8782148361206055,
          0.8948562741279602,
          0.8925870060920715,
          0.8956127166748047,
          0.9243570566177368,
          0.9183055758476257,
          0.9296520352363586,
          0.9092284440994263,
          0.9122541546821594,
          0.9160363078117371,
          0.8956127166748047,
          0.8540090918540955,
          0.9183055758476257,
          0.9243570566177368
         ],
         "yaxis": "y"
        },
        {
         "hovertemplate": "model_metric=sequential_1_accuracy<br>epoch=%{x}<br>value=%{y}<extra></extra>",
         "legendgroup": "sequential_1_accuracy",
         "line": {
          "color": "#FFA15A",
          "dash": "solid"
         },
         "marker": {
          "symbol": "circle"
         },
         "mode": "lines",
         "name": "sequential_1_accuracy",
         "orientation": "v",
         "showlegend": true,
         "type": "scatter",
         "x": [
          1,
          2,
          3,
          4,
          5,
          6,
          7,
          8,
          9,
          10,
          11,
          12,
          13,
          14,
          15,
          16,
          17,
          18,
          19,
          20,
          21,
          22,
          23,
          24,
          25,
          26,
          27,
          28,
          29,
          30,
          31,
          32,
          33,
          34,
          35,
          36,
          37,
          38,
          39,
          40,
          41,
          42,
          43,
          44,
          45,
          46,
          47,
          48,
          49,
          50
         ],
         "xaxis": "x",
         "y": [
          0.40894508361816406,
          0.556708812713623,
          0.6161540150642395,
          0.5927533507347107,
          0.6467257738113403,
          0.6493678092956543,
          0.6852236390113831,
          0.678429901599884,
          0.7144744396209717,
          0.7242876291275024,
          0.7450462579727173,
          0.7454236745834351,
          0.7548593878746033,
          0.7658048868179321,
          0.7769390344619751,
          0.7943007946014404,
          0.787884533405304,
          0.8116625547409058,
          0.8027929663658142,
          0.8048688173294067,
          0.8203434348106384,
          0.811285138130188,
          0.81675785779953,
          0.8122287392616272,
          0.8210983276367188,
          0.8360068202018738,
          0.8380826711654663,
          0.8363842368125916,
          0.8311002254486084,
          0.8471409678459167,
          0.8505378365516663,
          0.8601623177528381,
          0.8492168188095093,
          0.8503491282463074,
          0.8720513582229614,
          0.8501604199409485,
          0.8526136875152588,
          0.872806191444397,
          0.8677108883857727,
          0.8745046257972717,
          0.8807322382926941,
          0.8752594590187073,
          0.8763917684555054,
          0.8641253113746643,
          0.876957893371582,
          0.8639366030693054,
          0.8729948997497559,
          0.8699754476547241,
          0.8824306726455688,
          0.8773353695869446
         ],
         "yaxis": "y"
        },
        {
         "hovertemplate": "model_metric=sequential_1_val_accuracy<br>epoch=%{x}<br>value=%{y}<extra></extra>",
         "legendgroup": "sequential_1_val_accuracy",
         "line": {
          "color": "#19d3f3",
          "dash": "solid"
         },
         "marker": {
          "symbol": "circle"
         },
         "mode": "lines",
         "name": "sequential_1_val_accuracy",
         "orientation": "v",
         "showlegend": true,
         "type": "scatter",
         "x": [
          1,
          2,
          3,
          4,
          5,
          6,
          7,
          8,
          9,
          10,
          11,
          12,
          13,
          14,
          15,
          16,
          17,
          18,
          19,
          20,
          21,
          22,
          23,
          24,
          25,
          26,
          27,
          28,
          29,
          30,
          31,
          32,
          33,
          34,
          35,
          36,
          37,
          38,
          39,
          40,
          41,
          42,
          43,
          44,
          45,
          46,
          47,
          48,
          49,
          50
         ],
         "xaxis": "x",
         "y": [
          0.5544629096984863,
          0.6059001684188843,
          0.5431165099143982,
          0.6974281668663025,
          0.704992413520813,
          0.6981845498085022,
          0.6195158958435059,
          0.7609682083129883,
          0.7821482419967651,
          0.7836611270904541,
          0.7836611270904541,
          0.7745839357376099,
          0.8146747350692749,
          0.8078668713569641,
          0.8071104288101196,
          0.8229954838752747,
          0.8366112112998962,
          0.7586989402770996,
          0.8146747350692749,
          0.8358547687530518,
          0.8577912449836731,
          0.8714069724082947,
          0.8691376447677612,
          0.7768532633781433,
          0.8683812618255615,
          0.8373676538467407,
          0.8888048529624939,
          0.8328290581703186,
          0.8751891255378723,
          0.8948562741279602,
          0.8608169555664062,
          0.8623297810554504,
          0.8993948698043823,
          0.8888048529624939,
          0.8910741209983826,
          0.891830563545227,
          0.875945508480072,
          0.9114977121353149,
          0.8910741209983826,
          0.9077155590057373,
          0.8963691592216492,
          0.925869882106781,
          0.9137670397758484,
          0.8229954838752747,
          0.8797276616096497,
          0.8767019510269165,
          0.8819969892501831,
          0.9296520352363586,
          0.8872919678688049,
          0.9160363078117371
         ],
         "yaxis": "y"
        },
        {
         "hovertemplate": "model_metric=sequential_2_accuracy<br>epoch=%{x}<br>value=%{y}<extra></extra>",
         "legendgroup": "sequential_2_accuracy",
         "line": {
          "color": "#FF6692",
          "dash": "solid"
         },
         "marker": {
          "symbol": "circle"
         },
         "mode": "lines",
         "name": "sequential_2_accuracy",
         "orientation": "v",
         "showlegend": true,
         "type": "scatter",
         "x": [
          1,
          2,
          3,
          4,
          5,
          6,
          7,
          8,
          9,
          10,
          11,
          12,
          13,
          14,
          15,
          16,
          17,
          18,
          19,
          20,
          21,
          22,
          23,
          24,
          25,
          26,
          27,
          28,
          29,
          30,
          31,
          32,
          33,
          34,
          35,
          36,
          37,
          38,
          39,
          40,
          41,
          42,
          43,
          44,
          45,
          46,
          47,
          48,
          49,
          50
         ],
         "xaxis": "x",
         "y": [
          0.49065861105918884,
          0.5736931562423706,
          0.6491791009902954,
          0.659369707107544,
          0.6761653423309326,
          0.7035289406776428,
          0.7220230102539062,
          0.7240988612174988,
          0.7207019925117493,
          0.7269296050071716,
          0.7424042224884033,
          0.7354217767715454,
          0.7374976277351379,
          0.7620306015014648,
          0.7527835369110107,
          0.7558029890060425,
          0.7799584865570068,
          0.7790148854255676,
          0.7890167832374573,
          0.7984525561332703,
          0.7758067846298218,
          0.8116625547409058,
          0.8209096193313599,
          0.8314776420593262,
          0.8284581899642944,
          0.8314776420593262,
          0.8297792077064514,
          0.8271371722221375,
          0.8378939628601074,
          0.8311002254486084,
          0.8469522595405579,
          0.8609171509742737,
          0.8673334717750549,
          0.8650688529014587,
          0.8556331396102905,
          0.8662011623382568,
          0.8694093227386475,
          0.8663898706436157,
          0.8739385008811951,
          0.8507265448570251,
          0.8662011623382568,
          0.8794112205505371,
          0.8854500651359558,
          0.883751630783081,
          0.8709190487861633,
          0.8860162496566772,
          0.8862049579620361,
          0.8894131183624268,
          0.8986601233482361,
          0.8967729806900024
         ],
         "yaxis": "y"
        },
        {
         "hovertemplate": "model_metric=sequential_2_val_accuracy<br>epoch=%{x}<br>value=%{y}<extra></extra>",
         "legendgroup": "sequential_2_val_accuracy",
         "line": {
          "color": "#B6E880",
          "dash": "solid"
         },
         "marker": {
          "symbol": "circle"
         },
         "mode": "lines",
         "name": "sequential_2_val_accuracy",
         "orientation": "v",
         "showlegend": true,
         "type": "scatter",
         "x": [
          1,
          2,
          3,
          4,
          5,
          6,
          7,
          8,
          9,
          10,
          11,
          12,
          13,
          14,
          15,
          16,
          17,
          18,
          19,
          20,
          21,
          22,
          23,
          24,
          25,
          26,
          27,
          28,
          29,
          30,
          31,
          32,
          33,
          34,
          35,
          36,
          37,
          38,
          39,
          40,
          41,
          42,
          43,
          44,
          45,
          46,
          47,
          48,
          49,
          50
         ],
         "xaxis": "x",
         "y": [
          0.4629349410533905,
          0.6376702189445496,
          0.6747352480888367,
          0.6202723383903503,
          0.6921331286430359,
          0.7148260474205017,
          0.6830559968948364,
          0.7019667029380798,
          0.7957639694213867,
          0.7715582251548767,
          0.7829046845436096,
          0.7972768545150757,
          0.7753403782844543,
          0.8260211944580078,
          0.8010590076446533,
          0.8063539862632751,
          0.8199697136878967,
          0.8456883430480957,
          0.8086233139038086,
          0.8426626324653625,
          0.8245083093643188,
          0.851739764213562,
          0.8963691592216492,
          0.8767019510269165,
          0.8653555512428284,
          0.8638426661491394,
          0.8714069724082947,
          0.853252649307251,
          0.9024205803871155,
          0.8668683767318726,
          0.8714069724082947,
          0.8857791423797607,
          0.90317702293396,
          0.9084720015525818,
          0.9009076952934265,
          0.9062027335166931,
          0.8842662572860718,
          0.9183055758476257,
          0.8993948698043823,
          0.9183055758476257,
          0.9228441715240479,
          0.901664137840271,
          0.8925870060920715,
          0.9160363078117371,
          0.9092284440994263,
          0.9341906309127808,
          0.9190620183944702,
          0.935703456401825,
          0.9440242052078247,
          0.9394856095314026
         ],
         "yaxis": "y"
        }
       ],
       "layout": {
        "legend": {
         "title": {
          "text": "model_metric"
         },
         "tracegroupgap": 0
        },
        "margin": {
         "t": 60
        },
        "template": {
         "data": {
          "bar": [
           {
            "error_x": {
             "color": "#2a3f5f"
            },
            "error_y": {
             "color": "#2a3f5f"
            },
            "marker": {
             "line": {
              "color": "#E5ECF6",
              "width": 0.5
             },
             "pattern": {
              "fillmode": "overlay",
              "size": 10,
              "solidity": 0.2
             }
            },
            "type": "bar"
           }
          ],
          "barpolar": [
           {
            "marker": {
             "line": {
              "color": "#E5ECF6",
              "width": 0.5
             },
             "pattern": {
              "fillmode": "overlay",
              "size": 10,
              "solidity": 0.2
             }
            },
            "type": "barpolar"
           }
          ],
          "carpet": [
           {
            "aaxis": {
             "endlinecolor": "#2a3f5f",
             "gridcolor": "white",
             "linecolor": "white",
             "minorgridcolor": "white",
             "startlinecolor": "#2a3f5f"
            },
            "baxis": {
             "endlinecolor": "#2a3f5f",
             "gridcolor": "white",
             "linecolor": "white",
             "minorgridcolor": "white",
             "startlinecolor": "#2a3f5f"
            },
            "type": "carpet"
           }
          ],
          "choropleth": [
           {
            "colorbar": {
             "outlinewidth": 0,
             "ticks": ""
            },
            "type": "choropleth"
           }
          ],
          "contour": [
           {
            "colorbar": {
             "outlinewidth": 0,
             "ticks": ""
            },
            "colorscale": [
             [
              0,
              "#0d0887"
             ],
             [
              0.1111111111111111,
              "#46039f"
             ],
             [
              0.2222222222222222,
              "#7201a8"
             ],
             [
              0.3333333333333333,
              "#9c179e"
             ],
             [
              0.4444444444444444,
              "#bd3786"
             ],
             [
              0.5555555555555556,
              "#d8576b"
             ],
             [
              0.6666666666666666,
              "#ed7953"
             ],
             [
              0.7777777777777778,
              "#fb9f3a"
             ],
             [
              0.8888888888888888,
              "#fdca26"
             ],
             [
              1,
              "#f0f921"
             ]
            ],
            "type": "contour"
           }
          ],
          "contourcarpet": [
           {
            "colorbar": {
             "outlinewidth": 0,
             "ticks": ""
            },
            "type": "contourcarpet"
           }
          ],
          "heatmap": [
           {
            "colorbar": {
             "outlinewidth": 0,
             "ticks": ""
            },
            "colorscale": [
             [
              0,
              "#0d0887"
             ],
             [
              0.1111111111111111,
              "#46039f"
             ],
             [
              0.2222222222222222,
              "#7201a8"
             ],
             [
              0.3333333333333333,
              "#9c179e"
             ],
             [
              0.4444444444444444,
              "#bd3786"
             ],
             [
              0.5555555555555556,
              "#d8576b"
             ],
             [
              0.6666666666666666,
              "#ed7953"
             ],
             [
              0.7777777777777778,
              "#fb9f3a"
             ],
             [
              0.8888888888888888,
              "#fdca26"
             ],
             [
              1,
              "#f0f921"
             ]
            ],
            "type": "heatmap"
           }
          ],
          "heatmapgl": [
           {
            "colorbar": {
             "outlinewidth": 0,
             "ticks": ""
            },
            "colorscale": [
             [
              0,
              "#0d0887"
             ],
             [
              0.1111111111111111,
              "#46039f"
             ],
             [
              0.2222222222222222,
              "#7201a8"
             ],
             [
              0.3333333333333333,
              "#9c179e"
             ],
             [
              0.4444444444444444,
              "#bd3786"
             ],
             [
              0.5555555555555556,
              "#d8576b"
             ],
             [
              0.6666666666666666,
              "#ed7953"
             ],
             [
              0.7777777777777778,
              "#fb9f3a"
             ],
             [
              0.8888888888888888,
              "#fdca26"
             ],
             [
              1,
              "#f0f921"
             ]
            ],
            "type": "heatmapgl"
           }
          ],
          "histogram": [
           {
            "marker": {
             "pattern": {
              "fillmode": "overlay",
              "size": 10,
              "solidity": 0.2
             }
            },
            "type": "histogram"
           }
          ],
          "histogram2d": [
           {
            "colorbar": {
             "outlinewidth": 0,
             "ticks": ""
            },
            "colorscale": [
             [
              0,
              "#0d0887"
             ],
             [
              0.1111111111111111,
              "#46039f"
             ],
             [
              0.2222222222222222,
              "#7201a8"
             ],
             [
              0.3333333333333333,
              "#9c179e"
             ],
             [
              0.4444444444444444,
              "#bd3786"
             ],
             [
              0.5555555555555556,
              "#d8576b"
             ],
             [
              0.6666666666666666,
              "#ed7953"
             ],
             [
              0.7777777777777778,
              "#fb9f3a"
             ],
             [
              0.8888888888888888,
              "#fdca26"
             ],
             [
              1,
              "#f0f921"
             ]
            ],
            "type": "histogram2d"
           }
          ],
          "histogram2dcontour": [
           {
            "colorbar": {
             "outlinewidth": 0,
             "ticks": ""
            },
            "colorscale": [
             [
              0,
              "#0d0887"
             ],
             [
              0.1111111111111111,
              "#46039f"
             ],
             [
              0.2222222222222222,
              "#7201a8"
             ],
             [
              0.3333333333333333,
              "#9c179e"
             ],
             [
              0.4444444444444444,
              "#bd3786"
             ],
             [
              0.5555555555555556,
              "#d8576b"
             ],
             [
              0.6666666666666666,
              "#ed7953"
             ],
             [
              0.7777777777777778,
              "#fb9f3a"
             ],
             [
              0.8888888888888888,
              "#fdca26"
             ],
             [
              1,
              "#f0f921"
             ]
            ],
            "type": "histogram2dcontour"
           }
          ],
          "mesh3d": [
           {
            "colorbar": {
             "outlinewidth": 0,
             "ticks": ""
            },
            "type": "mesh3d"
           }
          ],
          "parcoords": [
           {
            "line": {
             "colorbar": {
              "outlinewidth": 0,
              "ticks": ""
             }
            },
            "type": "parcoords"
           }
          ],
          "pie": [
           {
            "automargin": true,
            "type": "pie"
           }
          ],
          "scatter": [
           {
            "fillpattern": {
             "fillmode": "overlay",
             "size": 10,
             "solidity": 0.2
            },
            "type": "scatter"
           }
          ],
          "scatter3d": [
           {
            "line": {
             "colorbar": {
              "outlinewidth": 0,
              "ticks": ""
             }
            },
            "marker": {
             "colorbar": {
              "outlinewidth": 0,
              "ticks": ""
             }
            },
            "type": "scatter3d"
           }
          ],
          "scattercarpet": [
           {
            "marker": {
             "colorbar": {
              "outlinewidth": 0,
              "ticks": ""
             }
            },
            "type": "scattercarpet"
           }
          ],
          "scattergeo": [
           {
            "marker": {
             "colorbar": {
              "outlinewidth": 0,
              "ticks": ""
             }
            },
            "type": "scattergeo"
           }
          ],
          "scattergl": [
           {
            "marker": {
             "colorbar": {
              "outlinewidth": 0,
              "ticks": ""
             }
            },
            "type": "scattergl"
           }
          ],
          "scattermapbox": [
           {
            "marker": {
             "colorbar": {
              "outlinewidth": 0,
              "ticks": ""
             }
            },
            "type": "scattermapbox"
           }
          ],
          "scatterpolar": [
           {
            "marker": {
             "colorbar": {
              "outlinewidth": 0,
              "ticks": ""
             }
            },
            "type": "scatterpolar"
           }
          ],
          "scatterpolargl": [
           {
            "marker": {
             "colorbar": {
              "outlinewidth": 0,
              "ticks": ""
             }
            },
            "type": "scatterpolargl"
           }
          ],
          "scatterternary": [
           {
            "marker": {
             "colorbar": {
              "outlinewidth": 0,
              "ticks": ""
             }
            },
            "type": "scatterternary"
           }
          ],
          "surface": [
           {
            "colorbar": {
             "outlinewidth": 0,
             "ticks": ""
            },
            "colorscale": [
             [
              0,
              "#0d0887"
             ],
             [
              0.1111111111111111,
              "#46039f"
             ],
             [
              0.2222222222222222,
              "#7201a8"
             ],
             [
              0.3333333333333333,
              "#9c179e"
             ],
             [
              0.4444444444444444,
              "#bd3786"
             ],
             [
              0.5555555555555556,
              "#d8576b"
             ],
             [
              0.6666666666666666,
              "#ed7953"
             ],
             [
              0.7777777777777778,
              "#fb9f3a"
             ],
             [
              0.8888888888888888,
              "#fdca26"
             ],
             [
              1,
              "#f0f921"
             ]
            ],
            "type": "surface"
           }
          ],
          "table": [
           {
            "cells": {
             "fill": {
              "color": "#EBF0F8"
             },
             "line": {
              "color": "white"
             }
            },
            "header": {
             "fill": {
              "color": "#C8D4E3"
             },
             "line": {
              "color": "white"
             }
            },
            "type": "table"
           }
          ]
         },
         "layout": {
          "annotationdefaults": {
           "arrowcolor": "#2a3f5f",
           "arrowhead": 0,
           "arrowwidth": 1
          },
          "autotypenumbers": "strict",
          "coloraxis": {
           "colorbar": {
            "outlinewidth": 0,
            "ticks": ""
           }
          },
          "colorscale": {
           "diverging": [
            [
             0,
             "#8e0152"
            ],
            [
             0.1,
             "#c51b7d"
            ],
            [
             0.2,
             "#de77ae"
            ],
            [
             0.3,
             "#f1b6da"
            ],
            [
             0.4,
             "#fde0ef"
            ],
            [
             0.5,
             "#f7f7f7"
            ],
            [
             0.6,
             "#e6f5d0"
            ],
            [
             0.7,
             "#b8e186"
            ],
            [
             0.8,
             "#7fbc41"
            ],
            [
             0.9,
             "#4d9221"
            ],
            [
             1,
             "#276419"
            ]
           ],
           "sequential": [
            [
             0,
             "#0d0887"
            ],
            [
             0.1111111111111111,
             "#46039f"
            ],
            [
             0.2222222222222222,
             "#7201a8"
            ],
            [
             0.3333333333333333,
             "#9c179e"
            ],
            [
             0.4444444444444444,
             "#bd3786"
            ],
            [
             0.5555555555555556,
             "#d8576b"
            ],
            [
             0.6666666666666666,
             "#ed7953"
            ],
            [
             0.7777777777777778,
             "#fb9f3a"
            ],
            [
             0.8888888888888888,
             "#fdca26"
            ],
            [
             1,
             "#f0f921"
            ]
           ],
           "sequentialminus": [
            [
             0,
             "#0d0887"
            ],
            [
             0.1111111111111111,
             "#46039f"
            ],
            [
             0.2222222222222222,
             "#7201a8"
            ],
            [
             0.3333333333333333,
             "#9c179e"
            ],
            [
             0.4444444444444444,
             "#bd3786"
            ],
            [
             0.5555555555555556,
             "#d8576b"
            ],
            [
             0.6666666666666666,
             "#ed7953"
            ],
            [
             0.7777777777777778,
             "#fb9f3a"
            ],
            [
             0.8888888888888888,
             "#fdca26"
            ],
            [
             1,
             "#f0f921"
            ]
           ]
          },
          "colorway": [
           "#636efa",
           "#EF553B",
           "#00cc96",
           "#ab63fa",
           "#FFA15A",
           "#19d3f3",
           "#FF6692",
           "#B6E880",
           "#FF97FF",
           "#FECB52"
          ],
          "font": {
           "color": "#2a3f5f"
          },
          "geo": {
           "bgcolor": "white",
           "lakecolor": "white",
           "landcolor": "#E5ECF6",
           "showlakes": true,
           "showland": true,
           "subunitcolor": "white"
          },
          "hoverlabel": {
           "align": "left"
          },
          "hovermode": "closest",
          "mapbox": {
           "style": "light"
          },
          "paper_bgcolor": "white",
          "plot_bgcolor": "#E5ECF6",
          "polar": {
           "angularaxis": {
            "gridcolor": "white",
            "linecolor": "white",
            "ticks": ""
           },
           "bgcolor": "#E5ECF6",
           "radialaxis": {
            "gridcolor": "white",
            "linecolor": "white",
            "ticks": ""
           }
          },
          "scene": {
           "xaxis": {
            "backgroundcolor": "#E5ECF6",
            "gridcolor": "white",
            "gridwidth": 2,
            "linecolor": "white",
            "showbackground": true,
            "ticks": "",
            "zerolinecolor": "white"
           },
           "yaxis": {
            "backgroundcolor": "#E5ECF6",
            "gridcolor": "white",
            "gridwidth": 2,
            "linecolor": "white",
            "showbackground": true,
            "ticks": "",
            "zerolinecolor": "white"
           },
           "zaxis": {
            "backgroundcolor": "#E5ECF6",
            "gridcolor": "white",
            "gridwidth": 2,
            "linecolor": "white",
            "showbackground": true,
            "ticks": "",
            "zerolinecolor": "white"
           }
          },
          "shapedefaults": {
           "line": {
            "color": "#2a3f5f"
           }
          },
          "ternary": {
           "aaxis": {
            "gridcolor": "white",
            "linecolor": "white",
            "ticks": ""
           },
           "baxis": {
            "gridcolor": "white",
            "linecolor": "white",
            "ticks": ""
           },
           "bgcolor": "#E5ECF6",
           "caxis": {
            "gridcolor": "white",
            "linecolor": "white",
            "ticks": ""
           }
          },
          "title": {
           "x": 0.05
          },
          "xaxis": {
           "automargin": true,
           "gridcolor": "white",
           "linecolor": "white",
           "ticks": "",
           "title": {
            "standoff": 15
           },
           "zerolinecolor": "white",
           "zerolinewidth": 2
          },
          "yaxis": {
           "automargin": true,
           "gridcolor": "white",
           "linecolor": "white",
           "ticks": "",
           "title": {
            "standoff": 15
           },
           "zerolinecolor": "white",
           "zerolinewidth": 2
          }
         }
        },
        "updatemenus": [
         {
          "active": 0,
          "buttons": [
           {
            "args": [
             {
              "visible": [
               true
              ]
             },
             {
              "title": "ALL"
             }
            ],
            "label": "None",
            "method": "update"
           },
           {
            "args": [
             {
              "visible": [
               true,
               true,
               false,
               false,
               false,
               false,
               false,
               false
              ]
             },
             {
              "title": "inception_model"
             }
            ],
            "label": "inception_model",
            "method": "update"
           },
           {
            "args": [
             {
              "visible": [
               false,
               false,
               true,
               true,
               false,
               false,
               false,
               false
              ]
             },
             {
              "title": "sequential"
             }
            ],
            "label": "sequential",
            "method": "update"
           },
           {
            "args": [
             {
              "visible": [
               false,
               false,
               false,
               false,
               true,
               true,
               false,
               false
              ]
             },
             {
              "title": "sequential_1"
             }
            ],
            "label": "sequential_1",
            "method": "update"
           },
           {
            "args": [
             {
              "visible": [
               false,
               false,
               false,
               false,
               false,
               false,
               true,
               true
              ]
             },
             {
              "title": "sequential_2"
             }
            ],
            "label": "sequential_2",
            "method": "update"
           }
          ]
         }
        ],
        "xaxis": {
         "anchor": "y",
         "domain": [
          0,
          1
         ],
         "title": {
          "text": "epoch"
         }
        },
        "yaxis": {
         "anchor": "x",
         "domain": [
          0,
          1
         ],
         "title": {
          "text": "value"
         }
        }
       }
      }
     },
     "metadata": {},
     "output_type": "display_data"
    }
   ],
   "source": [
    "line_chart = LineChart(epoch_results=epoch_results_df)\n",
    "fig = line_chart.create_line_chart(metrics=['accuracy', 'val_accuracy'])\n",
    "fig.show()"
   ]
  },
  {
   "cell_type": "code",
   "execution_count": 7,
   "metadata": {},
   "outputs": [
    {
     "data": {
      "image/png": "[encoded data removed]",
      "text/plain": [
       "<IPython.core.display.Image object>"
      ]
     },
     "execution_count": 7,
     "metadata": {},
     "output_type": "execute_result"
    }
   ],
   "source": [
    "Image('../images/accuracies_models.png')"
   ]
  },
  {
   "cell_type": "code",
   "execution_count": 8,
   "metadata": {},
   "outputs": [
    {
     "data": {
      "image/png": "[encoded data removed]",
      "text/plain": [
       "<IPython.core.display.Image object>"
      ]
     },
     "execution_count": 8,
     "metadata": {},
     "output_type": "execute_result"
    }
   ],
   "source": [
    "Image('../images/inception_model_accuracy.png')"
   ]
  },
  {
   "cell_type": "code",
   "execution_count": 9,
   "metadata": {},
   "outputs": [
    {
     "data": {
      "image/png": "[encoded data removed]",
      "text/plain": [
       "<IPython.core.display.Image object>"
      ]
     },
     "execution_count": 9,
     "metadata": {},
     "output_type": "execute_result"
    }
   ],
   "source": [
    "Image('../images/other_models_accuracies.png')"
   ]
  },
  {
   "cell_type": "code",
   "execution_count": 10,
   "metadata": {},
   "outputs": [],
   "source": [
    "pio.write_html(fig, file='../dashboards/accuracy_line_chart.html', auto_open=True)"
   ]
  },
  {
   "cell_type": "code",
   "execution_count": 11,
   "metadata": {},
   "outputs": [
    {
     "name": "stderr",
     "output_type": "stream",
     "text": [
      "c:\\Users\\SILVAFRA\\Anaconda3\\envs\\python-cvcourse\\lib\\site-packages\\ipykernel_launcher.py:11: SettingWithCopyWarning:\n",
      "\n",
      "\n",
      "A value is trying to be set on a copy of a slice from a DataFrame.\n",
      "Try using .loc[row_indexer,col_indexer] = value instead\n",
      "\n",
      "See the caveats in the documentation: https://pandas.pydata.org/pandas-docs/stable/user_guide/indexing.html#returning-a-view-versus-a-copy\n",
      "\n"
     ]
    },
    {
     "data": {
      "application/vnd.plotly.v1+json": {
       "config": {
        "plotlyServerURL": "https://plot.ly"
       },
       "data": [
        {
         "hovertemplate": "model_metric=inception_model_loss<br>epoch=%{x}<br>value=%{y}<extra></extra>",
         "legendgroup": "inception_model_loss",
         "line": {
          "color": "#636efa",
          "dash": "solid"
         },
         "marker": {
          "symbol": "circle"
         },
         "mode": "lines",
         "name": "inception_model_loss",
         "orientation": "v",
         "showlegend": true,
         "type": "scatter",
         "x": [
          1,
          2,
          3,
          4,
          5,
          6,
          7,
          8,
          9,
          10,
          11,
          12,
          13,
          14,
          15,
          16,
          17,
          18,
          19,
          20,
          21,
          22,
          23,
          24,
          25,
          26,
          27,
          28,
          29,
          30,
          31,
          32,
          33,
          34,
          35,
          36,
          37,
          38,
          39,
          40,
          41,
          42,
          43,
          44,
          45,
          46,
          47,
          48,
          49,
          50
         ],
         "xaxis": "x",
         "y": [
          1.2300504446029663,
          0.2985251247882843,
          0.28113722801208496,
          0.201438307762146,
          0.18797557055950165,
          0.19958406686782837,
          0.18466895818710327,
          0.15385012328624725,
          0.1787196844816208,
          0.1241755560040474,
          0.14211831986904144,
          0.1238401010632515,
          0.12227917462587357,
          0.14917965233325958,
          0.11280463635921478,
          0.12815110385417938,
          0.12947598099708557,
          0.1019224002957344,
          0.09251679480075836,
          0.09615743160247803,
          0.11763614416122437,
          0.08897197246551514,
          0.09595274180173874,
          0.0843585878610611,
          0.08750125765800476,
          0.0744703859090805,
          0.08090780675411224,
          0.08440182358026505,
          0.08790408074855804,
          0.10168267786502838,
          0.07952956110239029,
          0.07908982038497925,
          0.08522661030292511,
          0.0764271467924118,
          0.07457365840673447,
          0.06767844408750534,
          0.06438393890857697,
          0.08527625352144241,
          0.06492821127176285,
          0.06983526796102524,
          0.07321241497993469,
          0.07585156708955765,
          0.0619627945125103,
          0.04590633884072304,
          0.059463020414114,
          0.05808605998754501,
          0.0741969645023346,
          0.047266628593206406,
          0.061390869319438934,
          0.06447155773639679
         ],
         "yaxis": "y"
        },
        {
         "hovertemplate": "model_metric=inception_model_val_loss<br>epoch=%{x}<br>value=%{y}<extra></extra>",
         "legendgroup": "inception_model_val_loss",
         "line": {
          "color": "#EF553B",
          "dash": "solid"
         },
         "marker": {
          "symbol": "circle"
         },
         "mode": "lines",
         "name": "inception_model_val_loss",
         "orientation": "v",
         "showlegend": true,
         "type": "scatter",
         "x": [
          1,
          2,
          3,
          4,
          5,
          6,
          7,
          8,
          9,
          10,
          11,
          12,
          13,
          14,
          15,
          16,
          17,
          18,
          19,
          20,
          21,
          22,
          23,
          24,
          25,
          26,
          27,
          28,
          29,
          30,
          31,
          32,
          33,
          34,
          35,
          36,
          37,
          38,
          39,
          40,
          41,
          42,
          43,
          44,
          45,
          46,
          47,
          48,
          49,
          50
         ],
         "xaxis": "x",
         "y": [
          0.41083067655563354,
          0.3999621272087097,
          0.21577268838882446,
          0.20803430676460266,
          0.19089144468307495,
          0.18460141122341156,
          0.1892894059419632,
          0.2328857034444809,
          0.1558847278356552,
          0.1586562991142273,
          0.20376087725162506,
          0.13460436463356018,
          0.1395616978406906,
          0.30368053913116455,
          0.11908932775259018,
          0.1421971470117569,
          0.20577901601791382,
          0.1377859115600586,
          0.12929165363311768,
          0.15735328197479248,
          0.15646964311599731,
          0.14451569318771362,
          0.1409134864807129,
          0.13828174769878387,
          0.12767097353935242,
          0.12338019907474518,
          0.14101707935333252,
          0.12012893706560135,
          0.14215649664402008,
          0.14511467516422272,
          0.15712876617908478,
          0.1938241571187973,
          0.12160593271255493,
          0.1414010226726532,
          0.11651363223791122,
          0.15094640851020813,
          0.11456195265054703,
          0.1439027488231659,
          0.10288236290216446,
          0.15510641038417816,
          0.1457255482673645,
          0.11131122708320618,
          0.13712774217128754,
          0.12684012949466705,
          0.132289320230484,
          0.1290387660264969,
          0.1321551501750946,
          0.11391579359769821,
          0.12361205369234085,
          0.12512774765491486
         ],
         "yaxis": "y"
        },
        {
         "hovertemplate": "model_metric=sequential_loss<br>epoch=%{x}<br>value=%{y}<extra></extra>",
         "legendgroup": "sequential_loss",
         "line": {
          "color": "#00cc96",
          "dash": "solid"
         },
         "marker": {
          "symbol": "circle"
         },
         "mode": "lines",
         "name": "sequential_loss",
         "orientation": "v",
         "showlegend": true,
         "type": "scatter",
         "x": [
          1,
          2,
          3,
          4,
          5,
          6,
          7,
          8,
          9,
          10,
          11,
          12,
          13,
          14,
          15,
          16,
          17,
          18,
          19,
          20,
          21,
          22,
          23,
          24,
          25,
          26,
          27,
          28,
          29,
          30,
          31,
          32,
          33,
          34,
          35,
          36,
          37,
          38,
          39,
          40,
          41,
          42,
          43,
          44,
          45,
          46,
          47,
          48,
          49,
          50
         ],
         "xaxis": "x",
         "y": [
          2.2191386222839355,
          1.0493255853652954,
          1.0053988695144653,
          0.9347991347312927,
          0.9236235618591309,
          0.8898317217826843,
          0.8556395173072815,
          0.9421453475952148,
          0.7823913097381592,
          0.7421495914459229,
          0.6874940395355225,
          0.647197961807251,
          0.6194796562194824,
          0.6168927550315857,
          0.5946022868156433,
          0.5643750429153442,
          0.5598332285881042,
          0.5542424321174622,
          0.5491014122962952,
          0.5163047313690186,
          0.5463714003562927,
          0.5331888198852539,
          0.5455179214477539,
          0.4825785756111145,
          0.47283998131752014,
          0.4630165100097656,
          0.4346337914466858,
          0.44774308800697327,
          0.4494222402572632,
          0.43330419063568115,
          0.397862046957016,
          0.3767086863517761,
          0.4043998420238495,
          0.3880132734775543,
          0.40015709400177,
          0.3938506245613098,
          0.39066559076309204,
          0.3993074595928192,
          0.3526413142681122,
          0.32933509349823,
          0.34139955043792725,
          0.3337811231613159,
          0.3259267210960388,
          0.3577128052711487,
          0.3244388997554779,
          0.3057824671268463,
          0.33382347226142883,
          0.34921109676361084,
          0.32631292939186096,
          0.30262669920921326
         ],
         "yaxis": "y"
        },
        {
         "hovertemplate": "model_metric=sequential_val_loss<br>epoch=%{x}<br>value=%{y}<extra></extra>",
         "legendgroup": "sequential_val_loss",
         "line": {
          "color": "#ab63fa",
          "dash": "solid"
         },
         "marker": {
          "symbol": "circle"
         },
         "mode": "lines",
         "name": "sequential_val_loss",
         "orientation": "v",
         "showlegend": true,
         "type": "scatter",
         "x": [
          1,
          2,
          3,
          4,
          5,
          6,
          7,
          8,
          9,
          10,
          11,
          12,
          13,
          14,
          15,
          16,
          17,
          18,
          19,
          20,
          21,
          22,
          23,
          24,
          25,
          26,
          27,
          28,
          29,
          30,
          31,
          32,
          33,
          34,
          35,
          36,
          37,
          38,
          39,
          40,
          41,
          42,
          43,
          44,
          45,
          46,
          47,
          48,
          49,
          50
         ],
         "xaxis": "x",
         "y": [
          1.039459228515625,
          0.9456691145896912,
          0.9171951413154602,
          0.9597718119621277,
          0.8268789052963257,
          0.8760519027709961,
          0.7593579292297363,
          0.6911910176277161,
          0.7226610779762268,
          0.5959516763687134,
          0.6511292457580566,
          0.719941258430481,
          0.577092170715332,
          0.5780049562454224,
          0.4539524018764496,
          0.679615318775177,
          0.508215069770813,
          0.4713379442691803,
          0.4503483176231384,
          0.39731937646865845,
          0.3747175931930542,
          0.6138315200805664,
          0.44102272391319275,
          0.4757882058620453,
          0.47076112031936646,
          0.35090532898902893,
          0.39449575543403625,
          0.3785330355167389,
          0.3790515065193176,
          0.29311463236808777,
          0.36268511414527893,
          0.2989621162414551,
          0.3112982213497162,
          0.35177984833717346,
          0.3257378935813904,
          0.30452683568000793,
          0.33879637718200684,
          0.3202247619628906,
          0.2902740240097046,
          0.28012776374816895,
          0.24326397478580475,
          0.2352314293384552,
          0.23452885448932648,
          0.2537902295589447,
          0.25568124651908875,
          0.25848907232284546,
          0.314439594745636,
          0.3880114257335663,
          0.23328177630901337,
          0.23658841848373413
         ],
         "yaxis": "y"
        },
        {
         "hovertemplate": "model_metric=sequential_1_loss<br>epoch=%{x}<br>value=%{y}<extra></extra>",
         "legendgroup": "sequential_1_loss",
         "line": {
          "color": "#FFA15A",
          "dash": "solid"
         },
         "marker": {
          "symbol": "circle"
         },
         "mode": "lines",
         "name": "sequential_1_loss",
         "orientation": "v",
         "showlegend": true,
         "type": "scatter",
         "x": [
          1,
          2,
          3,
          4,
          5,
          6,
          7,
          8,
          9,
          10,
          11,
          12,
          13,
          14,
          15,
          16,
          17,
          18,
          19,
          20,
          21,
          22,
          23,
          24,
          25,
          26,
          27,
          28,
          29,
          30,
          31,
          32,
          33,
          34,
          35,
          36,
          37,
          38,
          39,
          40,
          41,
          42,
          43,
          44,
          45,
          46,
          47,
          48,
          49,
          50
         ],
         "xaxis": "x",
         "y": [
          2.388897180557251,
          1.078192949295044,
          1.024369239807129,
          0.9821393489837646,
          0.9490965008735657,
          0.9044033885002136,
          0.8270103335380554,
          0.8360499143600464,
          0.7316025495529175,
          0.692444384098053,
          0.6699715852737427,
          0.6501473784446716,
          0.6202475428581238,
          0.6155232787132263,
          0.559266209602356,
          0.5378658175468445,
          0.5480192303657532,
          0.5081673264503479,
          0.5351672768592834,
          0.5087617635726929,
          0.48298999667167664,
          0.49335038661956787,
          0.49400946497917175,
          0.4863559901714325,
          0.4732022285461426,
          0.4362110197544098,
          0.4348614811897278,
          0.43393123149871826,
          0.456302285194397,
          0.4252932369709015,
          0.39451539516448975,
          0.38588055968284607,
          0.40309542417526245,
          0.3963826596736908,
          0.35369136929512024,
          0.39980536699295044,
          0.4008519649505615,
          0.36417606472969055,
          0.3605917692184448,
          0.3484918773174286,
          0.34128662943840027,
          0.3464757800102234,
          0.3422030210494995,
          0.374952495098114,
          0.34784993529319763,
          0.3843303620815277,
          0.35066500306129456,
          0.3634849786758423,
          0.3320241868495941,
          0.3355385959148407
         ],
         "yaxis": "y"
        },
        {
         "hovertemplate": "model_metric=sequential_1_val_loss<br>epoch=%{x}<br>value=%{y}<extra></extra>",
         "legendgroup": "sequential_1_val_loss",
         "line": {
          "color": "#19d3f3",
          "dash": "solid"
         },
         "marker": {
          "symbol": "circle"
         },
         "mode": "lines",
         "name": "sequential_1_val_loss",
         "orientation": "v",
         "showlegend": true,
         "type": "scatter",
         "x": [
          1,
          2,
          3,
          4,
          5,
          6,
          7,
          8,
          9,
          10,
          11,
          12,
          13,
          14,
          15,
          16,
          17,
          18,
          19,
          20,
          21,
          22,
          23,
          24,
          25,
          26,
          27,
          28,
          29,
          30,
          31,
          32,
          33,
          34,
          35,
          36,
          37,
          38,
          39,
          40,
          41,
          42,
          43,
          44,
          45,
          46,
          47,
          48,
          49,
          50
         ],
         "xaxis": "x",
         "y": [
          1.0430349111557007,
          1.02366304397583,
          1.0503698587417603,
          0.8234362602233887,
          0.7712876796722412,
          0.7511090040206909,
          0.9232885241508484,
          0.6395444869995117,
          0.5682771801948547,
          0.5545682311058044,
          0.5631572604179382,
          0.5421615839004517,
          0.4636259973049164,
          0.48567405343055725,
          0.48977988958358765,
          0.4978620111942291,
          0.43357864022254944,
          0.6082557439804077,
          0.4945487976074219,
          0.42722001671791077,
          0.39998161792755127,
          0.3742930293083191,
          0.35002321004867554,
          0.5455514192581177,
          0.36578354239463806,
          0.4507353901863098,
          0.3219117522239685,
          0.4296850562095642,
          0.34362727403640747,
          0.2978036105632782,
          0.3637356758117676,
          0.3910652995109558,
          0.27769026160240173,
          0.30980101227760315,
          0.3083561360836029,
          0.29525119066238403,
          0.323268860578537,
          0.25583788752555847,
          0.302700400352478,
          0.26686111092567444,
          0.29536762833595276,
          0.22263704240322113,
          0.25245681405067444,
          0.4586712121963501,
          0.3074469268321991,
          0.3809652328491211,
          0.32701995968818665,
          0.2295621633529663,
          0.3072928488254547,
          0.2471313178539276
         ],
         "yaxis": "y"
        },
        {
         "hovertemplate": "model_metric=sequential_2_loss<br>epoch=%{x}<br>value=%{y}<extra></extra>",
         "legendgroup": "sequential_2_loss",
         "line": {
          "color": "#FF6692",
          "dash": "solid"
         },
         "marker": {
          "symbol": "circle"
         },
         "mode": "lines",
         "name": "sequential_2_loss",
         "orientation": "v",
         "showlegend": true,
         "type": "scatter",
         "x": [
          1,
          2,
          3,
          4,
          5,
          6,
          7,
          8,
          9,
          10,
          11,
          12,
          13,
          14,
          15,
          16,
          17,
          18,
          19,
          20,
          21,
          22,
          23,
          24,
          25,
          26,
          27,
          28,
          29,
          30,
          31,
          32,
          33,
          34,
          35,
          36,
          37,
          38,
          39,
          40,
          41,
          42,
          43,
          44,
          45,
          46,
          47,
          48,
          49,
          50
         ],
         "xaxis": "x",
         "y": [
          3.7491536140441895,
          1.128282070159912,
          0.9156443476676941,
          0.8639549016952515,
          0.8123846054077148,
          0.7834168076515198,
          1.0331494808197021,
          0.7868626713752747,
          0.7830953001976013,
          0.7230345010757446,
          0.6750601530075073,
          0.7231227159500122,
          0.665313184261322,
          0.6207687854766846,
          0.6653864979743958,
          0.7050755620002747,
          0.5914861559867859,
          0.5956370830535889,
          0.5639235377311707,
          0.559603214263916,
          0.573557436466217,
          0.5239702463150024,
          0.4821006655693054,
          0.4596768915653229,
          0.46527576446533203,
          0.4555802345275879,
          0.4521293640136719,
          0.4514597952365875,
          0.4550175070762634,
          0.4591454565525055,
          0.4172888994216919,
          0.39199793338775635,
          0.3615213632583618,
          0.3590783476829529,
          0.3833419978618622,
          0.3661414384841919,
          0.3666656017303467,
          0.35674917697906494,
          0.33415064215660095,
          0.4000406861305237,
          0.35715165734291077,
          0.3397451937198639,
          0.3187501132488251,
          0.31661611795425415,
          0.34067389369010925,
          0.3149535357952118,
          0.3154466450214386,
          0.3100861608982086,
          0.2744612395763397,
          0.2908974289894104
         ],
         "yaxis": "y"
        },
        {
         "hovertemplate": "model_metric=sequential_2_val_loss<br>epoch=%{x}<br>value=%{y}<extra></extra>",
         "legendgroup": "sequential_2_val_loss",
         "line": {
          "color": "#B6E880",
          "dash": "solid"
         },
         "marker": {
          "symbol": "circle"
         },
         "mode": "lines",
         "name": "sequential_2_val_loss",
         "orientation": "v",
         "showlegend": true,
         "type": "scatter",
         "x": [
          1,
          2,
          3,
          4,
          5,
          6,
          7,
          8,
          9,
          10,
          11,
          12,
          13,
          14,
          15,
          16,
          17,
          18,
          19,
          20,
          21,
          22,
          23,
          24,
          25,
          26,
          27,
          28,
          29,
          30,
          31,
          32,
          33,
          34,
          35,
          36,
          37,
          38,
          39,
          40,
          41,
          42,
          43,
          44,
          45,
          46,
          47,
          48,
          49,
          50
         ],
         "xaxis": "x",
         "y": [
          1.4788793325424194,
          0.8511990308761597,
          0.8085850477218628,
          0.8534784913063049,
          0.8115651607513428,
          0.7354323863983154,
          1.3977365493774414,
          0.7198081016540527,
          0.6209943294525146,
          0.6048657298088074,
          0.584618330001831,
          0.5722282528877258,
          0.5779954791069031,
          0.4736745357513428,
          0.5282621383666992,
          0.5155260562896729,
          0.48306888341903687,
          0.4371376633644104,
          0.5083507299423218,
          0.4379264712333679,
          0.47620654106140137,
          0.4391709268093109,
          0.329069048166275,
          0.34962761402130127,
          0.39740779995918274,
          0.35226085782051086,
          0.3553600311279297,
          0.40812546014785767,
          0.32305195927619934,
          0.39491021633148193,
          0.3916320204734802,
          0.3203185498714447,
          0.3080861568450928,
          0.2727651596069336,
          0.279131144285202,
          0.2893795967102051,
          0.3513312041759491,
          0.23738215863704681,
          0.3025730550289154,
          0.24925093352794647,
          0.23844274878501892,
          0.2775852382183075,
          0.309479296207428,
          0.24497517943382263,
          0.28271982073783875,
          0.20857621729373932,
          0.20627987384796143,
          0.20085527002811432,
          0.17240145802497864,
          0.17751529812812805
         ],
         "yaxis": "y"
        }
       ],
       "layout": {
        "legend": {
         "title": {
          "text": "model_metric"
         },
         "tracegroupgap": 0
        },
        "margin": {
         "t": 60
        },
        "template": {
         "data": {
          "bar": [
           {
            "error_x": {
             "color": "#2a3f5f"
            },
            "error_y": {
             "color": "#2a3f5f"
            },
            "marker": {
             "line": {
              "color": "#E5ECF6",
              "width": 0.5
             },
             "pattern": {
              "fillmode": "overlay",
              "size": 10,
              "solidity": 0.2
             }
            },
            "type": "bar"
           }
          ],
          "barpolar": [
           {
            "marker": {
             "line": {
              "color": "#E5ECF6",
              "width": 0.5
             },
             "pattern": {
              "fillmode": "overlay",
              "size": 10,
              "solidity": 0.2
             }
            },
            "type": "barpolar"
           }
          ],
          "carpet": [
           {
            "aaxis": {
             "endlinecolor": "#2a3f5f",
             "gridcolor": "white",
             "linecolor": "white",
             "minorgridcolor": "white",
             "startlinecolor": "#2a3f5f"
            },
            "baxis": {
             "endlinecolor": "#2a3f5f",
             "gridcolor": "white",
             "linecolor": "white",
             "minorgridcolor": "white",
             "startlinecolor": "#2a3f5f"
            },
            "type": "carpet"
           }
          ],
          "choropleth": [
           {
            "colorbar": {
             "outlinewidth": 0,
             "ticks": ""
            },
            "type": "choropleth"
           }
          ],
          "contour": [
           {
            "colorbar": {
             "outlinewidth": 0,
             "ticks": ""
            },
            "colorscale": [
             [
              0,
              "#0d0887"
             ],
             [
              0.1111111111111111,
              "#46039f"
             ],
             [
              0.2222222222222222,
              "#7201a8"
             ],
             [
              0.3333333333333333,
              "#9c179e"
             ],
             [
              0.4444444444444444,
              "#bd3786"
             ],
             [
              0.5555555555555556,
              "#d8576b"
             ],
             [
              0.6666666666666666,
              "#ed7953"
             ],
             [
              0.7777777777777778,
              "#fb9f3a"
             ],
             [
              0.8888888888888888,
              "#fdca26"
             ],
             [
              1,
              "#f0f921"
             ]
            ],
            "type": "contour"
           }
          ],
          "contourcarpet": [
           {
            "colorbar": {
             "outlinewidth": 0,
             "ticks": ""
            },
            "type": "contourcarpet"
           }
          ],
          "heatmap": [
           {
            "colorbar": {
             "outlinewidth": 0,
             "ticks": ""
            },
            "colorscale": [
             [
              0,
              "#0d0887"
             ],
             [
              0.1111111111111111,
              "#46039f"
             ],
             [
              0.2222222222222222,
              "#7201a8"
             ],
             [
              0.3333333333333333,
              "#9c179e"
             ],
             [
              0.4444444444444444,
              "#bd3786"
             ],
             [
              0.5555555555555556,
              "#d8576b"
             ],
             [
              0.6666666666666666,
              "#ed7953"
             ],
             [
              0.7777777777777778,
              "#fb9f3a"
             ],
             [
              0.8888888888888888,
              "#fdca26"
             ],
             [
              1,
              "#f0f921"
             ]
            ],
            "type": "heatmap"
           }
          ],
          "heatmapgl": [
           {
            "colorbar": {
             "outlinewidth": 0,
             "ticks": ""
            },
            "colorscale": [
             [
              0,
              "#0d0887"
             ],
             [
              0.1111111111111111,
              "#46039f"
             ],
             [
              0.2222222222222222,
              "#7201a8"
             ],
             [
              0.3333333333333333,
              "#9c179e"
             ],
             [
              0.4444444444444444,
              "#bd3786"
             ],
             [
              0.5555555555555556,
              "#d8576b"
             ],
             [
              0.6666666666666666,
              "#ed7953"
             ],
             [
              0.7777777777777778,
              "#fb9f3a"
             ],
             [
              0.8888888888888888,
              "#fdca26"
             ],
             [
              1,
              "#f0f921"
             ]
            ],
            "type": "heatmapgl"
           }
          ],
          "histogram": [
           {
            "marker": {
             "pattern": {
              "fillmode": "overlay",
              "size": 10,
              "solidity": 0.2
             }
            },
            "type": "histogram"
           }
          ],
          "histogram2d": [
           {
            "colorbar": {
             "outlinewidth": 0,
             "ticks": ""
            },
            "colorscale": [
             [
              0,
              "#0d0887"
             ],
             [
              0.1111111111111111,
              "#46039f"
             ],
             [
              0.2222222222222222,
              "#7201a8"
             ],
             [
              0.3333333333333333,
              "#9c179e"
             ],
             [
              0.4444444444444444,
              "#bd3786"
             ],
             [
              0.5555555555555556,
              "#d8576b"
             ],
             [
              0.6666666666666666,
              "#ed7953"
             ],
             [
              0.7777777777777778,
              "#fb9f3a"
             ],
             [
              0.8888888888888888,
              "#fdca26"
             ],
             [
              1,
              "#f0f921"
             ]
            ],
            "type": "histogram2d"
           }
          ],
          "histogram2dcontour": [
           {
            "colorbar": {
             "outlinewidth": 0,
             "ticks": ""
            },
            "colorscale": [
             [
              0,
              "#0d0887"
             ],
             [
              0.1111111111111111,
              "#46039f"
             ],
             [
              0.2222222222222222,
              "#7201a8"
             ],
             [
              0.3333333333333333,
              "#9c179e"
             ],
             [
              0.4444444444444444,
              "#bd3786"
             ],
             [
              0.5555555555555556,
              "#d8576b"
             ],
             [
              0.6666666666666666,
              "#ed7953"
             ],
             [
              0.7777777777777778,
              "#fb9f3a"
             ],
             [
              0.8888888888888888,
              "#fdca26"
             ],
             [
              1,
              "#f0f921"
             ]
            ],
            "type": "histogram2dcontour"
           }
          ],
          "mesh3d": [
           {
            "colorbar": {
             "outlinewidth": 0,
             "ticks": ""
            },
            "type": "mesh3d"
           }
          ],
          "parcoords": [
           {
            "line": {
             "colorbar": {
              "outlinewidth": 0,
              "ticks": ""
             }
            },
            "type": "parcoords"
           }
          ],
          "pie": [
           {
            "automargin": true,
            "type": "pie"
           }
          ],
          "scatter": [
           {
            "fillpattern": {
             "fillmode": "overlay",
             "size": 10,
             "solidity": 0.2
            },
            "type": "scatter"
           }
          ],
          "scatter3d": [
           {
            "line": {
             "colorbar": {
              "outlinewidth": 0,
              "ticks": ""
             }
            },
            "marker": {
             "colorbar": {
              "outlinewidth": 0,
              "ticks": ""
             }
            },
            "type": "scatter3d"
           }
          ],
          "scattercarpet": [
           {
            "marker": {
             "colorbar": {
              "outlinewidth": 0,
              "ticks": ""
             }
            },
            "type": "scattercarpet"
           }
          ],
          "scattergeo": [
           {
            "marker": {
             "colorbar": {
              "outlinewidth": 0,
              "ticks": ""
             }
            },
            "type": "scattergeo"
           }
          ],
          "scattergl": [
           {
            "marker": {
             "colorbar": {
              "outlinewidth": 0,
              "ticks": ""
             }
            },
            "type": "scattergl"
           }
          ],
          "scattermapbox": [
           {
            "marker": {
             "colorbar": {
              "outlinewidth": 0,
              "ticks": ""
             }
            },
            "type": "scattermapbox"
           }
          ],
          "scatterpolar": [
           {
            "marker": {
             "colorbar": {
              "outlinewidth": 0,
              "ticks": ""
             }
            },
            "type": "scatterpolar"
           }
          ],
          "scatterpolargl": [
           {
            "marker": {
             "colorbar": {
              "outlinewidth": 0,
              "ticks": ""
             }
            },
            "type": "scatterpolargl"
           }
          ],
          "scatterternary": [
           {
            "marker": {
             "colorbar": {
              "outlinewidth": 0,
              "ticks": ""
             }
            },
            "type": "scatterternary"
           }
          ],
          "surface": [
           {
            "colorbar": {
             "outlinewidth": 0,
             "ticks": ""
            },
            "colorscale": [
             [
              0,
              "#0d0887"
             ],
             [
              0.1111111111111111,
              "#46039f"
             ],
             [
              0.2222222222222222,
              "#7201a8"
             ],
             [
              0.3333333333333333,
              "#9c179e"
             ],
             [
              0.4444444444444444,
              "#bd3786"
             ],
             [
              0.5555555555555556,
              "#d8576b"
             ],
             [
              0.6666666666666666,
              "#ed7953"
             ],
             [
              0.7777777777777778,
              "#fb9f3a"
             ],
             [
              0.8888888888888888,
              "#fdca26"
             ],
             [
              1,
              "#f0f921"
             ]
            ],
            "type": "surface"
           }
          ],
          "table": [
           {
            "cells": {
             "fill": {
              "color": "#EBF0F8"
             },
             "line": {
              "color": "white"
             }
            },
            "header": {
             "fill": {
              "color": "#C8D4E3"
             },
             "line": {
              "color": "white"
             }
            },
            "type": "table"
           }
          ]
         },
         "layout": {
          "annotationdefaults": {
           "arrowcolor": "#2a3f5f",
           "arrowhead": 0,
           "arrowwidth": 1
          },
          "autotypenumbers": "strict",
          "coloraxis": {
           "colorbar": {
            "outlinewidth": 0,
            "ticks": ""
           }
          },
          "colorscale": {
           "diverging": [
            [
             0,
             "#8e0152"
            ],
            [
             0.1,
             "#c51b7d"
            ],
            [
             0.2,
             "#de77ae"
            ],
            [
             0.3,
             "#f1b6da"
            ],
            [
             0.4,
             "#fde0ef"
            ],
            [
             0.5,
             "#f7f7f7"
            ],
            [
             0.6,
             "#e6f5d0"
            ],
            [
             0.7,
             "#b8e186"
            ],
            [
             0.8,
             "#7fbc41"
            ],
            [
             0.9,
             "#4d9221"
            ],
            [
             1,
             "#276419"
            ]
           ],
           "sequential": [
            [
             0,
             "#0d0887"
            ],
            [
             0.1111111111111111,
             "#46039f"
            ],
            [
             0.2222222222222222,
             "#7201a8"
            ],
            [
             0.3333333333333333,
             "#9c179e"
            ],
            [
             0.4444444444444444,
             "#bd3786"
            ],
            [
             0.5555555555555556,
             "#d8576b"
            ],
            [
             0.6666666666666666,
             "#ed7953"
            ],
            [
             0.7777777777777778,
             "#fb9f3a"
            ],
            [
             0.8888888888888888,
             "#fdca26"
            ],
            [
             1,
             "#f0f921"
            ]
           ],
           "sequentialminus": [
            [
             0,
             "#0d0887"
            ],
            [
             0.1111111111111111,
             "#46039f"
            ],
            [
             0.2222222222222222,
             "#7201a8"
            ],
            [
             0.3333333333333333,
             "#9c179e"
            ],
            [
             0.4444444444444444,
             "#bd3786"
            ],
            [
             0.5555555555555556,
             "#d8576b"
            ],
            [
             0.6666666666666666,
             "#ed7953"
            ],
            [
             0.7777777777777778,
             "#fb9f3a"
            ],
            [
             0.8888888888888888,
             "#fdca26"
            ],
            [
             1,
             "#f0f921"
            ]
           ]
          },
          "colorway": [
           "#636efa",
           "#EF553B",
           "#00cc96",
           "#ab63fa",
           "#FFA15A",
           "#19d3f3",
           "#FF6692",
           "#B6E880",
           "#FF97FF",
           "#FECB52"
          ],
          "font": {
           "color": "#2a3f5f"
          },
          "geo": {
           "bgcolor": "white",
           "lakecolor": "white",
           "landcolor": "#E5ECF6",
           "showlakes": true,
           "showland": true,
           "subunitcolor": "white"
          },
          "hoverlabel": {
           "align": "left"
          },
          "hovermode": "closest",
          "mapbox": {
           "style": "light"
          },
          "paper_bgcolor": "white",
          "plot_bgcolor": "#E5ECF6",
          "polar": {
           "angularaxis": {
            "gridcolor": "white",
            "linecolor": "white",
            "ticks": ""
           },
           "bgcolor": "#E5ECF6",
           "radialaxis": {
            "gridcolor": "white",
            "linecolor": "white",
            "ticks": ""
           }
          },
          "scene": {
           "xaxis": {
            "backgroundcolor": "#E5ECF6",
            "gridcolor": "white",
            "gridwidth": 2,
            "linecolor": "white",
            "showbackground": true,
            "ticks": "",
            "zerolinecolor": "white"
           },
           "yaxis": {
            "backgroundcolor": "#E5ECF6",
            "gridcolor": "white",
            "gridwidth": 2,
            "linecolor": "white",
            "showbackground": true,
            "ticks": "",
            "zerolinecolor": "white"
           },
           "zaxis": {
            "backgroundcolor": "#E5ECF6",
            "gridcolor": "white",
            "gridwidth": 2,
            "linecolor": "white",
            "showbackground": true,
            "ticks": "",
            "zerolinecolor": "white"
           }
          },
          "shapedefaults": {
           "line": {
            "color": "#2a3f5f"
           }
          },
          "ternary": {
           "aaxis": {
            "gridcolor": "white",
            "linecolor": "white",
            "ticks": ""
           },
           "baxis": {
            "gridcolor": "white",
            "linecolor": "white",
            "ticks": ""
           },
           "bgcolor": "#E5ECF6",
           "caxis": {
            "gridcolor": "white",
            "linecolor": "white",
            "ticks": ""
           }
          },
          "title": {
           "x": 0.05
          },
          "xaxis": {
           "automargin": true,
           "gridcolor": "white",
           "linecolor": "white",
           "ticks": "",
           "title": {
            "standoff": 15
           },
           "zerolinecolor": "white",
           "zerolinewidth": 2
          },
          "yaxis": {
           "automargin": true,
           "gridcolor": "white",
           "linecolor": "white",
           "ticks": "",
           "title": {
            "standoff": 15
           },
           "zerolinecolor": "white",
           "zerolinewidth": 2
          }
         }
        },
        "updatemenus": [
         {
          "active": 0,
          "buttons": [
           {
            "args": [
             {
              "visible": [
               true
              ]
             },
             {
              "title": "ALL"
             }
            ],
            "label": "None",
            "method": "update"
           },
           {
            "args": [
             {
              "visible": [
               true,
               true,
               false,
               false,
               false,
               false,
               false,
               false
              ]
             },
             {
              "title": "inception_model"
             }
            ],
            "label": "inception_model",
            "method": "update"
           },
           {
            "args": [
             {
              "visible": [
               false,
               false,
               true,
               true,
               false,
               false,
               false,
               false
              ]
             },
             {
              "title": "sequential"
             }
            ],
            "label": "sequential",
            "method": "update"
           },
           {
            "args": [
             {
              "visible": [
               false,
               false,
               false,
               false,
               true,
               true,
               false,
               false
              ]
             },
             {
              "title": "sequential_1"
             }
            ],
            "label": "sequential_1",
            "method": "update"
           },
           {
            "args": [
             {
              "visible": [
               false,
               false,
               false,
               false,
               false,
               false,
               true,
               true
              ]
             },
             {
              "title": "sequential_2"
             }
            ],
            "label": "sequential_2",
            "method": "update"
           }
          ]
         }
        ],
        "xaxis": {
         "anchor": "y",
         "domain": [
          0,
          1
         ],
         "title": {
          "text": "epoch"
         }
        },
        "yaxis": {
         "anchor": "x",
         "domain": [
          0,
          1
         ],
         "title": {
          "text": "value"
         }
        }
       }
      }
     },
     "metadata": {},
     "output_type": "display_data"
    }
   ],
   "source": [
    "line_chart = LineChart(epoch_results=epoch_results_df)\n",
    "line_chart.create_line_chart(metrics=['loss', 'val_loss'])"
   ]
  },
  {
   "cell_type": "code",
   "execution_count": 13,
   "metadata": {},
   "outputs": [
    {
     "data": {
      "image/png": "[encoded data removed]",
      "text/plain": [
       "<IPython.core.display.Image object>"
      ]
     },
     "execution_count": 13,
     "metadata": {},
     "output_type": "execute_result"
    }
   ],
   "source": [
    "Image('../images/models_loss.png')"
   ]
  },
  {
   "cell_type": "code",
   "execution_count": 14,
   "metadata": {},
   "outputs": [
    {
     "data": {
      "image/png": "[encoded data removed]",
      "text/plain": [
       "<IPython.core.display.Image object>"
      ]
     },
     "execution_count": 14,
     "metadata": {},
     "output_type": "execute_result"
    }
   ],
   "source": [
    "Image('../images/inception_model_loss.png')"
   ]
  },
  {
   "cell_type": "code",
   "execution_count": 16,
   "metadata": {},
   "outputs": [
    {
     "data": {
      "image/png": "[encoded data removed]",
      "text/plain": [
       "<IPython.core.display.Image object>"
      ]
     },
     "execution_count": 16,
     "metadata": {},
     "output_type": "execute_result"
    }
   ],
   "source": [
    "Image('../images/other_models_loss.png')"
   ]
  },
  {
   "cell_type": "code",
   "execution_count": 12,
   "metadata": {},
   "outputs": [],
   "source": [
    "pio.write_html(fig, file='../dashboards/loss_line_chart.html', auto_open=True)"
   ]
  },
  {
   "attachments": {},
   "cell_type": "markdown",
   "metadata": {},
   "source": [
    "As we see from the charts above, the Inception model did outperform the simple CNN architectures. However, over time, simple CNN architectures caught up to Inceptions results.\n",
    "\n",
    "Since the model was already pre-trained, Inception started with a very high training and validation accuracy (0.75 and 0.85 respectively), while simple CNN architectures, started between 0.45 and 0.50. When we look at loss, it is the same story, with validation accuracy for the Inception model already in the low 0.5s by the first epochs.\n",
    "\n",
    "By the 50th epoch, its clear that the pre-trained Inception model is going to outperform the simple CNN architectures, reaching a validation accuracy above 0.95 and a validation loss below 0.2, while simple CNN architecture barely scratch the 0.90 mark in terms of validation accuracy, and are slightly below 0.3 in terms of validation loss.\n",
    "\n",
    "However, we did see the simple CNN architectures being able to catch up pretty quickly to the pre-trained model, which suggests that this problem does not require a complicated architecture to reach a high accuracy. Considering time complexity of deploying a pre-trained version of the Inception model, it would be more feasible to make some tweaks to the simple CNN architectures (increasing number of filters, kernel size or add a couple of Dense layers) to see if the model would be able to reach te 0.95 threshold."
   ]
  }
 ],
 "metadata": {
  "kernelspec": {
   "display_name": "python-cvcourse",
   "language": "python",
   "name": "python3"
  },
  "language_info": {
   "codemirror_mode": {
    "name": "ipython",
    "version": 3
   },
   "file_extension": ".py",
   "mimetype": "text/x-python",
   "name": "python",
   "nbconvert_exporter": "python",
   "pygments_lexer": "ipython3",
   "version": "3.6.13"
  },
  "orig_nbformat": 4,
  "vscode": {
   "interpreter": {
    "hash": "ff7df5024ff67cfd14fa3829b70d55bebaeb2d739d589d09346ba9568026bf28"
   }
  }
 },
 "nbformat": 4,
 "nbformat_minor": 2
}
